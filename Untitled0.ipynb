{
  "nbformat": 4,
  "nbformat_minor": 0,
  "metadata": {
    "colab": {
      "provenance": [],
      "authorship_tag": "ABX9TyNoHn2S5VMbygdh4kfaYV4E",
      "include_colab_link": true
    },
    "kernelspec": {
      "name": "python3",
      "display_name": "Python 3"
    },
    "language_info": {
      "name": "python"
    }
  },
  "cells": [
    {
      "cell_type": "markdown",
      "metadata": {
        "id": "view-in-github",
        "colab_type": "text"
      },
      "source": [
        "<a href=\"https://colab.research.google.com/github/joanicematos/Brincando/blob/main/Untitled0.ipynb\" target=\"_parent\"><img src=\"https://colab.research.google.com/assets/colab-badge.svg\" alt=\"Open In Colab\"/></a>"
      ]
    },
    {
      "cell_type": "code",
      "execution_count": 8,
      "metadata": {
        "colab": {
          "base_uri": "https://localhost:8080/"
        },
        "id": "tb2Y_10hfqGO",
        "outputId": "afe5f3bf-d24b-488e-fd0d-52aae75ae100"
      },
      "outputs": [
        {
          "output_type": "stream",
          "name": "stdout",
          "text": [
            "\n",
            "MEDIA:  8.639999999999999\n",
            "\n",
            "MEDIANA:  8.8\n",
            "\n",
            "MODA:  8.8\n",
            "Media: 8.64\n"
          ]
        }
      ],
      "source": [
        "import numpy as np\n",
        "from statistics import mode #importa a função p/ moda\n",
        "\n",
        "# dados na forma de lista\n",
        "notas = [8.5, 9.2, 8.8, 7.8, 9.0, 8.8, 8.2, 9.5, 7.8, 8.8]\n",
        "\n",
        "# calculo da media\n",
        "media = np.mean(notas)\n",
        "\n",
        "#calculo da mediana\n",
        "mediana = np.median(notas)\n",
        "\n",
        "#calculo da moda\n",
        "moda = mode(notas)\n",
        "\n",
        "#imprimir os resultados\n",
        "print(\"\\nMEDIA: \", media)\n",
        "print(\"\\nMEDIANA: \", mediana)\n",
        "print(\"\\nMODA: \", moda);\n",
        "print(f\"Media: {media:.2f}\")"
      ]
    }
  ]
}